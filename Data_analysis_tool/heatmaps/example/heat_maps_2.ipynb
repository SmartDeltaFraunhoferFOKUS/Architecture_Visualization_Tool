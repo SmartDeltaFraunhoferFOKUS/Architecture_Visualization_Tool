{
 "cells": [
  {
   "cell_type": "code",
   "execution_count": 1,
   "metadata": {},
   "outputs": [],
   "source": [
    "import visualize_data as viz\n",
    "import regex_def as rd\n",
    "import re \n",
    "import numpy as np\n",
    "from os import walk\n",
    "import os"
   ]
  },
  {
   "attachments": {},
   "cell_type": "markdown",
   "metadata": {},
   "source": [
    "##### Get list of log files"
   ]
  },
  {
   "cell_type": "code",
   "execution_count": 2,
   "metadata": {},
   "outputs": [],
   "source": [
    "def get_all_files(dirname):\n",
    "    f = []\n",
    "    for (dirpath, dirnames, filenames) in walk(dirname):\n",
    "        f.extend(filenames)\n",
    "        break\n",
    "    #print(f)\n",
    "    return f"
   ]
  },
  {
   "attachments": {},
   "cell_type": "markdown",
   "metadata": {},
   "source": [
    "#### Get state sequences"
   ]
  },
  {
   "cell_type": "code",
   "execution_count": 3,
   "metadata": {},
   "outputs": [],
   "source": [
    "def get_states_sequences():\n",
    "    #get all logs\n",
    "    logs_all = []\n",
    "    dirname = r\"C:\\Users\\sab\\Downloads\\Vulnerablity\\SmartDelta\\Akka\\samples\\poc_new\\architecture_visualization_tool\\dualstackLogs\\elevator\"\n",
    "    file_list = get_all_files(dirname)\n",
    "    for file in file_list:\n",
    "        state_seq = open(os.path.join(dirname, file), 'r')\n",
    "        Lines = state_seq.readlines() \n",
    "        state_changes_all = []\n",
    "        for Line in Lines:\n",
    "            states_trans =[]\n",
    "            states_trans = Line.split(\" \")\n",
    "            #state_change_in_line = []\n",
    "            init_state = next_state = \"\"\n",
    "            for state in states_trans:\n",
    "                if(re.match(rd.trace_regex_message, state)):\n",
    "                    #only select messages that are state changes \n",
    "                    m = re.match(rd.state_from, state)\n",
    "                    if(m is not None):\n",
    "                        init_state = m.group(\"state_from\")\n",
    "                    m = re.match(rd.state_to, state)\n",
    "                    if(m is not None):\n",
    "                        next_state = m.group(\"state_to\")        \n",
    "                \n",
    "                    if(len(init_state) >0 and len(next_state)>0):\n",
    "                        state_changes_all.append([init_state[:-1], next_state[:-1]])\n",
    "        #print(state_changes_all)\n",
    "        logs_all.append(state_changes_all)\n",
    "    #print(logs_all)\n",
    "    return (logs_all)\n",
    "\n",
    "#get_states_sequences()\n"
   ]
  },
  {
   "attachments": {},
   "cell_type": "markdown",
   "metadata": {},
   "source": [
    "#### create matrix of values from sequence of states"
   ]
  },
  {
   "cell_type": "code",
   "execution_count": 4,
   "metadata": {},
   "outputs": [],
   "source": [
    "#This give an array of matrices. \n",
    "#Each matrix representing state transition counts in logs\n",
    "#so for n logs, each having m entries, this will produce a (n,m,m) dimensional array\n",
    "def get_matrix():\n",
    "      get_all_states = rd.states\n",
    "      all_state_sequences = get_states_sequences()\n",
    "      all_state_seq_mat = []\n",
    "      for state_sequences in all_state_sequences:\n",
    "            state_trans_matrix = []\n",
    "            for source_state in get_all_states:\n",
    "                  state_trans_count = []\n",
    "                  for dest_state in get_all_states:\n",
    "                        transition = [source_state, dest_state]\n",
    "                        count= state_sequences.count(transition)\n",
    "                        state_trans_count.append(count)         \n",
    "                        #print(transition, count)\n",
    "                  state_trans_matrix.append(state_trans_count)            \n",
    "            all_state_seq_mat.append(state_trans_matrix)\n",
    "      print(all_state_seq_mat)\n",
    "      print(\"dim:\", np.array(all_state_seq_mat).shape)\n",
    "      return  all_state_seq_mat"
   ]
  },
  {
   "attachments": {},
   "cell_type": "markdown",
   "metadata": {},
   "source": [
    "#### get l2 distance between the matrices"
   ]
  },
  {
   "cell_type": "code",
   "execution_count": 5,
   "metadata": {},
   "outputs": [
    {
     "name": "stdout",
     "output_type": "stream",
     "text": [
      "[[[0, 1, 0, 0, 0, 0, 0, 0, 0, 0, 0, 0, 0, 0, 0], [0, 0, 1, 1, 1, 0, 0, 0, 0, 0, 0, 0, 0, 0, 0], [0, 0, 0, 0, 0, 0, 0, 0, 0, 0, 0, 0, 0, 0, 0], [0, 0, 0, 0, 0, 0, 0, 0, 0, 0, 0, 0, 0, 0, 0], [0, 0, 0, 0, 0, 1, 0, 0, 0, 0, 0, 0, 0, 0, 0], [0, 0, 0, 0, 0, 0, 1, 1, 0, 0, 0, 0, 0, 0, 0], [0, 0, 0, 0, 0, 0, 0, 0, 0, 0, 0, 0, 0, 0, 0], [0, 0, 0, 0, 0, 0, 0, 0, 1, 0, 0, 0, 0, 0, 0], [0, 0, 0, 0, 0, 0, 0, 0, 1, 1, 0, 0, 0, 0, 0], [0, 0, 0, 0, 0, 0, 0, 0, 0, 4, 1, 0, 1, 0, 0], [0, 0, 0, 0, 0, 0, 0, 0, 0, 0, 1, 1, 0, 0, 0], [0, 0, 0, 0, 0, 0, 0, 0, 0, 1, 0, 3, 0, 0, 0], [0, 0, 0, 0, 0, 0, 0, 0, 0, 0, 0, 0, 0, 1, 0], [0, 0, 0, 0, 0, 0, 0, 0, 0, 0, 0, 0, 0, 0, 1], [0, 0, 0, 0, 0, 0, 0, 0, 0, 0, 0, 0, 0, 0, 0]], [[0, 1, 0, 0, 0, 0, 0, 0, 0, 0, 0, 0, 0, 0, 0], [0, 0, 1, 1, 1, 0, 0, 0, 0, 0, 0, 0, 0, 0, 0], [0, 0, 0, 0, 0, 0, 0, 0, 0, 0, 0, 0, 0, 0, 0], [0, 0, 0, 0, 0, 0, 0, 0, 0, 0, 0, 0, 0, 0, 0], [0, 0, 0, 0, 0, 1, 0, 0, 0, 0, 0, 0, 0, 0, 0], [0, 0, 0, 0, 0, 0, 1, 1, 0, 0, 0, 0, 0, 0, 0], [0, 0, 0, 0, 0, 0, 0, 0, 0, 0, 0, 0, 0, 0, 0], [0, 0, 0, 0, 0, 0, 0, 0, 1, 0, 0, 0, 0, 0, 0], [0, 0, 0, 0, 0, 0, 0, 0, 1, 1, 0, 0, 0, 0, 0], [0, 0, 0, 0, 0, 0, 0, 0, 0, 4, 1, 0, 0, 0, 0], [0, 0, 0, 0, 0, 0, 0, 0, 0, 0, 1, 1, 0, 0, 0], [0, 0, 0, 0, 0, 0, 0, 0, 0, 1, 0, 3, 0, 0, 0], [0, 0, 0, 0, 0, 0, 0, 0, 0, 0, 0, 0, 0, 0, 0], [0, 0, 0, 0, 0, 0, 0, 0, 0, 0, 0, 0, 0, 0, 0], [0, 0, 0, 0, 0, 0, 0, 0, 0, 0, 0, 0, 0, 0, 0]], [[0, 1, 0, 0, 0, 0, 0, 0, 0, 0, 0, 0, 0, 0, 0], [0, 0, 1, 1, 1, 0, 0, 0, 0, 0, 0, 0, 0, 0, 0], [0, 0, 0, 0, 0, 0, 0, 0, 0, 0, 0, 0, 0, 0, 0], [0, 0, 0, 0, 0, 0, 0, 0, 0, 0, 0, 0, 0, 0, 0], [0, 0, 0, 0, 0, 1, 0, 0, 0, 0, 0, 0, 0, 0, 0], [0, 0, 0, 0, 0, 0, 1, 1, 0, 0, 0, 0, 0, 0, 0], [0, 0, 0, 0, 0, 0, 0, 0, 0, 0, 0, 0, 0, 0, 0], [0, 0, 0, 0, 0, 0, 0, 0, 1, 0, 0, 0, 0, 0, 0], [0, 0, 0, 0, 0, 0, 0, 0, 1, 0, 0, 0, 0, 0, 0], [0, 0, 0, 0, 0, 0, 0, 0, 0, 0, 0, 0, 0, 0, 0], [0, 0, 0, 0, 0, 0, 0, 0, 0, 0, 0, 0, 0, 0, 0], [0, 0, 0, 0, 0, 0, 0, 0, 0, 0, 0, 0, 0, 0, 0], [0, 0, 0, 0, 0, 0, 0, 0, 0, 0, 0, 0, 0, 0, 0], [0, 0, 0, 0, 0, 0, 0, 0, 0, 0, 0, 0, 0, 0, 0], [0, 0, 0, 0, 0, 0, 0, 0, 0, 0, 0, 0, 0, 0, 0]], [[0, 1, 0, 0, 0, 0, 0, 0, 0, 0, 0, 0, 0, 0, 0], [0, 0, 1, 1, 1, 0, 0, 0, 0, 0, 0, 0, 0, 0, 0], [0, 0, 0, 0, 0, 0, 0, 0, 0, 0, 0, 0, 0, 0, 0], [0, 0, 0, 0, 0, 0, 0, 0, 0, 0, 0, 0, 0, 0, 0], [0, 0, 0, 0, 0, 1, 0, 0, 0, 0, 0, 0, 0, 0, 0], [0, 0, 0, 0, 0, 0, 1, 1, 0, 0, 0, 0, 0, 0, 0], [0, 0, 0, 0, 0, 0, 0, 0, 0, 0, 0, 0, 0, 0, 0], [0, 0, 0, 0, 0, 0, 0, 0, 1, 0, 0, 0, 0, 0, 0], [0, 0, 0, 0, 0, 0, 0, 0, 1, 1, 0, 0, 0, 0, 0], [0, 0, 0, 0, 0, 0, 0, 0, 0, 4, 1, 0, 1, 0, 0], [0, 0, 0, 0, 0, 0, 0, 0, 0, 0, 1, 1, 0, 0, 0], [0, 0, 0, 0, 0, 0, 0, 0, 0, 1, 0, 3, 0, 0, 0], [0, 0, 0, 0, 0, 0, 0, 0, 0, 0, 0, 0, 0, 1, 0], [0, 0, 0, 0, 0, 0, 0, 0, 0, 0, 0, 0, 0, 0, 1], [0, 0, 0, 0, 0, 0, 0, 0, 0, 0, 0, 0, 0, 0, 0]], [[0, 1, 0, 0, 0, 0, 0, 0, 0, 0, 0, 0, 0, 0, 0], [0, 0, 1, 1, 1, 0, 0, 0, 0, 0, 0, 0, 0, 0, 0], [0, 0, 0, 0, 0, 0, 0, 0, 0, 0, 0, 0, 0, 0, 0], [0, 0, 0, 0, 0, 0, 0, 0, 0, 0, 0, 0, 0, 0, 0], [0, 0, 0, 0, 0, 1, 0, 0, 0, 0, 0, 0, 0, 0, 0], [0, 0, 0, 0, 0, 0, 1, 1, 0, 0, 0, 0, 0, 0, 0], [0, 0, 0, 0, 0, 0, 0, 0, 0, 0, 0, 0, 0, 0, 0], [0, 0, 0, 0, 0, 0, 0, 0, 1, 0, 0, 0, 0, 0, 0], [0, 0, 0, 0, 0, 0, 0, 0, 1, 1, 0, 0, 0, 0, 0], [0, 0, 0, 0, 0, 0, 0, 0, 0, 2, 1, 0, 0, 0, 0], [0, 0, 0, 0, 0, 0, 0, 0, 0, 0, 0, 0, 0, 0, 0], [0, 0, 0, 0, 0, 0, 0, 0, 0, 0, 0, 0, 0, 0, 0], [0, 0, 0, 0, 0, 0, 0, 0, 0, 0, 0, 0, 0, 0, 0], [0, 0, 0, 0, 0, 0, 0, 0, 0, 0, 0, 0, 0, 0, 0], [0, 0, 0, 0, 0, 0, 0, 0, 0, 0, 0, 0, 0, 0, 0]], [[0, 1, 0, 0, 0, 0, 0, 0, 0, 0, 0, 0, 0, 0, 0], [0, 0, 1, 1, 1, 0, 0, 0, 0, 0, 0, 0, 0, 0, 0], [0, 0, 0, 0, 0, 0, 0, 0, 0, 0, 0, 0, 0, 0, 0], [0, 0, 0, 0, 0, 0, 0, 0, 0, 0, 0, 0, 0, 0, 0], [0, 0, 0, 0, 0, 1, 0, 0, 0, 0, 0, 0, 0, 0, 0], [0, 0, 0, 0, 0, 0, 1, 1, 0, 0, 0, 0, 0, 0, 0], [0, 0, 0, 0, 0, 0, 0, 0, 0, 0, 0, 0, 0, 0, 0], [0, 0, 0, 0, 0, 0, 0, 0, 1, 0, 0, 0, 0, 0, 0], [0, 0, 0, 0, 0, 0, 0, 0, 1, 1, 0, 0, 0, 0, 0], [0, 0, 0, 0, 0, 0, 0, 0, 0, 2, 1, 0, 0, 0, 0], [0, 0, 0, 0, 0, 0, 0, 0, 0, 0, 0, 0, 0, 0, 0], [0, 0, 0, 0, 0, 0, 0, 0, 0, 0, 0, 0, 0, 0, 0], [0, 0, 0, 0, 0, 0, 0, 0, 0, 0, 0, 0, 0, 0, 0], [0, 0, 0, 0, 0, 0, 0, 0, 0, 0, 0, 0, 0, 0, 0], [0, 0, 0, 0, 0, 0, 0, 0, 0, 0, 0, 0, 0, 0, 0]], [[0, 1, 0, 0, 0, 0, 0, 0, 0, 0, 0, 0, 0, 0, 0], [0, 0, 1, 1, 1, 0, 0, 0, 0, 0, 0, 0, 0, 0, 0], [0, 0, 0, 0, 0, 0, 0, 0, 0, 0, 0, 0, 0, 0, 0], [0, 0, 0, 0, 0, 0, 0, 0, 0, 0, 0, 0, 0, 0, 0], [0, 0, 0, 0, 0, 1, 0, 0, 0, 0, 0, 0, 0, 0, 0], [0, 0, 0, 0, 0, 0, 1, 1, 0, 0, 0, 0, 0, 0, 0], [0, 0, 0, 0, 0, 0, 0, 0, 0, 0, 0, 0, 0, 0, 0], [0, 0, 0, 0, 0, 0, 0, 0, 1, 0, 0, 0, 0, 0, 0], [0, 0, 0, 0, 0, 0, 0, 0, 1, 1, 0, 0, 0, 0, 0], [0, 0, 0, 0, 0, 0, 0, 0, 0, 2, 1, 0, 0, 0, 0], [0, 0, 0, 0, 0, 0, 0, 0, 0, 0, 0, 0, 0, 0, 0], [0, 0, 0, 0, 0, 0, 0, 0, 0, 0, 0, 0, 0, 0, 0], [0, 0, 0, 0, 0, 0, 0, 0, 0, 0, 0, 0, 0, 1, 0], [0, 0, 0, 0, 0, 0, 0, 0, 0, 0, 0, 0, 0, 0, 1], [0, 0, 0, 0, 0, 0, 0, 0, 0, 0, 0, 0, 0, 0, 0]], [[0, 1, 0, 0, 0, 0, 0, 0, 0, 0, 0, 0, 0, 0, 0], [0, 0, 1, 1, 1, 0, 0, 0, 0, 0, 0, 0, 0, 0, 0], [0, 0, 0, 0, 0, 0, 0, 0, 0, 0, 0, 0, 0, 0, 0], [0, 0, 0, 0, 0, 0, 0, 0, 0, 0, 0, 0, 0, 0, 0], [0, 0, 0, 0, 0, 1, 0, 0, 0, 0, 0, 0, 0, 0, 0], [0, 0, 0, 0, 0, 0, 1, 1, 0, 0, 0, 0, 0, 0, 0], [0, 0, 0, 0, 0, 0, 0, 0, 0, 0, 0, 0, 0, 0, 0], [0, 0, 0, 0, 0, 0, 0, 0, 1, 0, 0, 0, 0, 0, 0], [0, 0, 0, 0, 0, 0, 0, 0, 1, 1, 0, 0, 0, 0, 0], [0, 0, 0, 0, 0, 0, 0, 0, 0, 2, 0, 0, 1, 0, 0], [0, 0, 0, 0, 0, 0, 0, 0, 0, 0, 0, 0, 0, 0, 0], [0, 0, 0, 0, 0, 0, 0, 0, 0, 0, 0, 0, 0, 0, 0], [0, 0, 0, 0, 0, 0, 0, 0, 0, 0, 0, 0, 0, 1, 0], [0, 0, 0, 0, 0, 0, 0, 0, 0, 0, 0, 0, 0, 0, 1], [0, 0, 0, 0, 0, 0, 0, 0, 0, 0, 0, 0, 0, 0, 0]]]\n",
      "dim: (8, 15, 15)\n"
     ]
    }
   ],
   "source": [
    "all_state_seq_mat = get_matrix()\n",
    "\n",
    "def get_similarity_distance():\n",
    "    overall_dist = []\n",
    "    #now file l2 distance between all matrices.\n",
    "    for state_matrix in all_state_seq_mat:    \n",
    "        l2_distance_row = []    #contains l2 distance between a single matrix and all other matrices\n",
    "        for state_matrix_2 in all_state_seq_mat:\n",
    "            l2= np.linalg.norm(np.array(state_matrix)-np.array(state_matrix_2))\n",
    "            l2_distance_row.append(l2)\n",
    "        overall_dist.append(l2_distance_row)\n",
    "    print(overall_dist)\n",
    "    return(overall_dist)\n"
   ]
  },
  {
   "attachments": {},
   "cell_type": "markdown",
   "metadata": {},
   "source": [
    "#### Visualize"
   ]
  },
  {
   "cell_type": "code",
   "execution_count": 6,
   "metadata": {},
   "outputs": [
    {
     "name": "stdout",
     "output_type": "stream",
     "text": [
      "[[0.0, 1.7320508075688772, 5.744562646538029, 0.0, 4.358898943540674, 4.358898943540674, 4.123105625617661, 4.123105625617661], [1.7320508075688772, 0.0, 5.477225575051661, 1.7320508075688772, 4.0, 4.0, 4.242640687119285, 4.47213595499958], [5.744562646538029, 5.477225575051661, 0.0, 5.744562646538029, 2.449489742783178, 2.449489742783178, 2.8284271247461903, 2.8284271247461903], [0.0, 1.7320508075688772, 5.744562646538029, 0.0, 4.358898943540674, 4.358898943540674, 4.123105625617661, 4.123105625617661], [4.358898943540674, 4.0, 2.449489742783178, 4.358898943540674, 0.0, 0.0, 1.4142135623730951, 2.0], [4.358898943540674, 4.0, 2.449489742783178, 4.358898943540674, 0.0, 0.0, 1.4142135623730951, 2.0], [4.123105625617661, 4.242640687119285, 2.8284271247461903, 4.123105625617661, 1.4142135623730951, 1.4142135623730951, 0.0, 1.4142135623730951], [4.123105625617661, 4.47213595499958, 2.8284271247461903, 4.123105625617661, 2.0, 2.0, 1.4142135623730951, 0.0]]\n"
     ]
    },
    {
     "data": {
      "text/html": [
       "<style  type=\"text/css\" >\n",
       "#T_9ce2f602_063b_11ee_b763_54ee7549d0carow0_col0,#T_9ce2f602_063b_11ee_b763_54ee7549d0carow0_col3,#T_9ce2f602_063b_11ee_b763_54ee7549d0carow1_col1,#T_9ce2f602_063b_11ee_b763_54ee7549d0carow2_col2,#T_9ce2f602_063b_11ee_b763_54ee7549d0carow3_col0,#T_9ce2f602_063b_11ee_b763_54ee7549d0carow3_col3,#T_9ce2f602_063b_11ee_b763_54ee7549d0carow4_col4,#T_9ce2f602_063b_11ee_b763_54ee7549d0carow4_col5,#T_9ce2f602_063b_11ee_b763_54ee7549d0carow5_col4,#T_9ce2f602_063b_11ee_b763_54ee7549d0carow5_col5,#T_9ce2f602_063b_11ee_b763_54ee7549d0carow6_col6,#T_9ce2f602_063b_11ee_b763_54ee7549d0carow7_col7{\n",
       "            background-color:  #f7fbff;\n",
       "        }#T_9ce2f602_063b_11ee_b763_54ee7549d0carow0_col1,#T_9ce2f602_063b_11ee_b763_54ee7549d0carow1_col0,#T_9ce2f602_063b_11ee_b763_54ee7549d0carow1_col3,#T_9ce2f602_063b_11ee_b763_54ee7549d0carow3_col1{\n",
       "            background-color:  #c6dbef;\n",
       "        }#T_9ce2f602_063b_11ee_b763_54ee7549d0carow0_col2,#T_9ce2f602_063b_11ee_b763_54ee7549d0carow2_col0,#T_9ce2f602_063b_11ee_b763_54ee7549d0carow2_col3,#T_9ce2f602_063b_11ee_b763_54ee7549d0carow3_col2{\n",
       "            background-color:  #105ba4;\n",
       "        }#T_9ce2f602_063b_11ee_b763_54ee7549d0carow0_col4,#T_9ce2f602_063b_11ee_b763_54ee7549d0carow0_col5,#T_9ce2f602_063b_11ee_b763_54ee7549d0carow3_col4,#T_9ce2f602_063b_11ee_b763_54ee7549d0carow3_col5,#T_9ce2f602_063b_11ee_b763_54ee7549d0carow4_col0,#T_9ce2f602_063b_11ee_b763_54ee7549d0carow4_col3,#T_9ce2f602_063b_11ee_b763_54ee7549d0carow5_col0,#T_9ce2f602_063b_11ee_b763_54ee7549d0carow5_col3{\n",
       "            background-color:  #4090c5;\n",
       "        }#T_9ce2f602_063b_11ee_b763_54ee7549d0carow0_col6,#T_9ce2f602_063b_11ee_b763_54ee7549d0carow0_col7,#T_9ce2f602_063b_11ee_b763_54ee7549d0carow3_col6,#T_9ce2f602_063b_11ee_b763_54ee7549d0carow3_col7,#T_9ce2f602_063b_11ee_b763_54ee7549d0carow6_col0,#T_9ce2f602_063b_11ee_b763_54ee7549d0carow6_col3,#T_9ce2f602_063b_11ee_b763_54ee7549d0carow7_col0,#T_9ce2f602_063b_11ee_b763_54ee7549d0carow7_col3{\n",
       "            background-color:  #4a98c9;\n",
       "        }#T_9ce2f602_063b_11ee_b763_54ee7549d0carow1_col2,#T_9ce2f602_063b_11ee_b763_54ee7549d0carow2_col1{\n",
       "            background-color:  #1865ac;\n",
       "        }#T_9ce2f602_063b_11ee_b763_54ee7549d0carow1_col4,#T_9ce2f602_063b_11ee_b763_54ee7549d0carow1_col5,#T_9ce2f602_063b_11ee_b763_54ee7549d0carow4_col1,#T_9ce2f602_063b_11ee_b763_54ee7549d0carow5_col1{\n",
       "            background-color:  #519ccc;\n",
       "        }#T_9ce2f602_063b_11ee_b763_54ee7549d0carow1_col6,#T_9ce2f602_063b_11ee_b763_54ee7549d0carow6_col1{\n",
       "            background-color:  #4594c7;\n",
       "        }#T_9ce2f602_063b_11ee_b763_54ee7549d0carow1_col7,#T_9ce2f602_063b_11ee_b763_54ee7549d0carow7_col1{\n",
       "            background-color:  #3b8bc2;\n",
       "        }#T_9ce2f602_063b_11ee_b763_54ee7549d0carow2_col4,#T_9ce2f602_063b_11ee_b763_54ee7549d0carow2_col5,#T_9ce2f602_063b_11ee_b763_54ee7549d0carow4_col2,#T_9ce2f602_063b_11ee_b763_54ee7549d0carow5_col2{\n",
       "            background-color:  #a5cde3;\n",
       "        }#T_9ce2f602_063b_11ee_b763_54ee7549d0carow2_col6,#T_9ce2f602_063b_11ee_b763_54ee7549d0carow2_col7,#T_9ce2f602_063b_11ee_b763_54ee7549d0carow6_col2,#T_9ce2f602_063b_11ee_b763_54ee7549d0carow7_col2{\n",
       "            background-color:  #8fc2de;\n",
       "        }#T_9ce2f602_063b_11ee_b763_54ee7549d0carow4_col6,#T_9ce2f602_063b_11ee_b763_54ee7549d0carow5_col6,#T_9ce2f602_063b_11ee_b763_54ee7549d0carow6_col4,#T_9ce2f602_063b_11ee_b763_54ee7549d0carow6_col5,#T_9ce2f602_063b_11ee_b763_54ee7549d0carow6_col7,#T_9ce2f602_063b_11ee_b763_54ee7549d0carow7_col6{\n",
       "            background-color:  #cfe1f2;\n",
       "        }#T_9ce2f602_063b_11ee_b763_54ee7549d0carow4_col7,#T_9ce2f602_063b_11ee_b763_54ee7549d0carow5_col7,#T_9ce2f602_063b_11ee_b763_54ee7549d0carow7_col4,#T_9ce2f602_063b_11ee_b763_54ee7549d0carow7_col5{\n",
       "            background-color:  #b9d6ea;\n",
       "        }</style><table id=\"T_9ce2f602_063b_11ee_b763_54ee7549d0ca\" ><thead>    <tr>        <th class=\"blank level0\" ></th>        <th class=\"col_heading level0 col0\" >elevator2.log</th>        <th class=\"col_heading level0 col1\" >elevator3.log</th>        <th class=\"col_heading level0 col2\" >elevator4.log</th>        <th class=\"col_heading level0 col3\" >elevator5.log</th>        <th class=\"col_heading level0 col4\" >elevator6.log</th>        <th class=\"col_heading level0 col5\" >elevator7.log</th>        <th class=\"col_heading level0 col6\" >elevator8.log</th>        <th class=\"col_heading level0 col7\" >elevator9.log</th>    </tr></thead><tbody>\n",
       "                <tr>\n",
       "                        <th id=\"T_9ce2f602_063b_11ee_b763_54ee7549d0calevel0_row0\" class=\"row_heading level0 row0\" >elevator2.log</th>\n",
       "                        <td id=\"T_9ce2f602_063b_11ee_b763_54ee7549d0carow0_col0\" class=\"data row0 col0\" >0.000</td>\n",
       "                        <td id=\"T_9ce2f602_063b_11ee_b763_54ee7549d0carow0_col1\" class=\"data row0 col1\" >1.732</td>\n",
       "                        <td id=\"T_9ce2f602_063b_11ee_b763_54ee7549d0carow0_col2\" class=\"data row0 col2\" >5.745</td>\n",
       "                        <td id=\"T_9ce2f602_063b_11ee_b763_54ee7549d0carow0_col3\" class=\"data row0 col3\" >0.000</td>\n",
       "                        <td id=\"T_9ce2f602_063b_11ee_b763_54ee7549d0carow0_col4\" class=\"data row0 col4\" >4.359</td>\n",
       "                        <td id=\"T_9ce2f602_063b_11ee_b763_54ee7549d0carow0_col5\" class=\"data row0 col5\" >4.359</td>\n",
       "                        <td id=\"T_9ce2f602_063b_11ee_b763_54ee7549d0carow0_col6\" class=\"data row0 col6\" >4.123</td>\n",
       "                        <td id=\"T_9ce2f602_063b_11ee_b763_54ee7549d0carow0_col7\" class=\"data row0 col7\" >4.123</td>\n",
       "            </tr>\n",
       "            <tr>\n",
       "                        <th id=\"T_9ce2f602_063b_11ee_b763_54ee7549d0calevel0_row1\" class=\"row_heading level0 row1\" >elevator3.log</th>\n",
       "                        <td id=\"T_9ce2f602_063b_11ee_b763_54ee7549d0carow1_col0\" class=\"data row1 col0\" >1.732</td>\n",
       "                        <td id=\"T_9ce2f602_063b_11ee_b763_54ee7549d0carow1_col1\" class=\"data row1 col1\" >0.000</td>\n",
       "                        <td id=\"T_9ce2f602_063b_11ee_b763_54ee7549d0carow1_col2\" class=\"data row1 col2\" >5.477</td>\n",
       "                        <td id=\"T_9ce2f602_063b_11ee_b763_54ee7549d0carow1_col3\" class=\"data row1 col3\" >1.732</td>\n",
       "                        <td id=\"T_9ce2f602_063b_11ee_b763_54ee7549d0carow1_col4\" class=\"data row1 col4\" >4.000</td>\n",
       "                        <td id=\"T_9ce2f602_063b_11ee_b763_54ee7549d0carow1_col5\" class=\"data row1 col5\" >4.000</td>\n",
       "                        <td id=\"T_9ce2f602_063b_11ee_b763_54ee7549d0carow1_col6\" class=\"data row1 col6\" >4.243</td>\n",
       "                        <td id=\"T_9ce2f602_063b_11ee_b763_54ee7549d0carow1_col7\" class=\"data row1 col7\" >4.472</td>\n",
       "            </tr>\n",
       "            <tr>\n",
       "                        <th id=\"T_9ce2f602_063b_11ee_b763_54ee7549d0calevel0_row2\" class=\"row_heading level0 row2\" >elevator4.log</th>\n",
       "                        <td id=\"T_9ce2f602_063b_11ee_b763_54ee7549d0carow2_col0\" class=\"data row2 col0\" >5.745</td>\n",
       "                        <td id=\"T_9ce2f602_063b_11ee_b763_54ee7549d0carow2_col1\" class=\"data row2 col1\" >5.477</td>\n",
       "                        <td id=\"T_9ce2f602_063b_11ee_b763_54ee7549d0carow2_col2\" class=\"data row2 col2\" >0.000</td>\n",
       "                        <td id=\"T_9ce2f602_063b_11ee_b763_54ee7549d0carow2_col3\" class=\"data row2 col3\" >5.745</td>\n",
       "                        <td id=\"T_9ce2f602_063b_11ee_b763_54ee7549d0carow2_col4\" class=\"data row2 col4\" >2.449</td>\n",
       "                        <td id=\"T_9ce2f602_063b_11ee_b763_54ee7549d0carow2_col5\" class=\"data row2 col5\" >2.449</td>\n",
       "                        <td id=\"T_9ce2f602_063b_11ee_b763_54ee7549d0carow2_col6\" class=\"data row2 col6\" >2.828</td>\n",
       "                        <td id=\"T_9ce2f602_063b_11ee_b763_54ee7549d0carow2_col7\" class=\"data row2 col7\" >2.828</td>\n",
       "            </tr>\n",
       "            <tr>\n",
       "                        <th id=\"T_9ce2f602_063b_11ee_b763_54ee7549d0calevel0_row3\" class=\"row_heading level0 row3\" >elevator5.log</th>\n",
       "                        <td id=\"T_9ce2f602_063b_11ee_b763_54ee7549d0carow3_col0\" class=\"data row3 col0\" >0.000</td>\n",
       "                        <td id=\"T_9ce2f602_063b_11ee_b763_54ee7549d0carow3_col1\" class=\"data row3 col1\" >1.732</td>\n",
       "                        <td id=\"T_9ce2f602_063b_11ee_b763_54ee7549d0carow3_col2\" class=\"data row3 col2\" >5.745</td>\n",
       "                        <td id=\"T_9ce2f602_063b_11ee_b763_54ee7549d0carow3_col3\" class=\"data row3 col3\" >0.000</td>\n",
       "                        <td id=\"T_9ce2f602_063b_11ee_b763_54ee7549d0carow3_col4\" class=\"data row3 col4\" >4.359</td>\n",
       "                        <td id=\"T_9ce2f602_063b_11ee_b763_54ee7549d0carow3_col5\" class=\"data row3 col5\" >4.359</td>\n",
       "                        <td id=\"T_9ce2f602_063b_11ee_b763_54ee7549d0carow3_col6\" class=\"data row3 col6\" >4.123</td>\n",
       "                        <td id=\"T_9ce2f602_063b_11ee_b763_54ee7549d0carow3_col7\" class=\"data row3 col7\" >4.123</td>\n",
       "            </tr>\n",
       "            <tr>\n",
       "                        <th id=\"T_9ce2f602_063b_11ee_b763_54ee7549d0calevel0_row4\" class=\"row_heading level0 row4\" >elevator6.log</th>\n",
       "                        <td id=\"T_9ce2f602_063b_11ee_b763_54ee7549d0carow4_col0\" class=\"data row4 col0\" >4.359</td>\n",
       "                        <td id=\"T_9ce2f602_063b_11ee_b763_54ee7549d0carow4_col1\" class=\"data row4 col1\" >4.000</td>\n",
       "                        <td id=\"T_9ce2f602_063b_11ee_b763_54ee7549d0carow4_col2\" class=\"data row4 col2\" >2.449</td>\n",
       "                        <td id=\"T_9ce2f602_063b_11ee_b763_54ee7549d0carow4_col3\" class=\"data row4 col3\" >4.359</td>\n",
       "                        <td id=\"T_9ce2f602_063b_11ee_b763_54ee7549d0carow4_col4\" class=\"data row4 col4\" >0.000</td>\n",
       "                        <td id=\"T_9ce2f602_063b_11ee_b763_54ee7549d0carow4_col5\" class=\"data row4 col5\" >0.000</td>\n",
       "                        <td id=\"T_9ce2f602_063b_11ee_b763_54ee7549d0carow4_col6\" class=\"data row4 col6\" >1.414</td>\n",
       "                        <td id=\"T_9ce2f602_063b_11ee_b763_54ee7549d0carow4_col7\" class=\"data row4 col7\" >2.000</td>\n",
       "            </tr>\n",
       "            <tr>\n",
       "                        <th id=\"T_9ce2f602_063b_11ee_b763_54ee7549d0calevel0_row5\" class=\"row_heading level0 row5\" >elevator7.log</th>\n",
       "                        <td id=\"T_9ce2f602_063b_11ee_b763_54ee7549d0carow5_col0\" class=\"data row5 col0\" >4.359</td>\n",
       "                        <td id=\"T_9ce2f602_063b_11ee_b763_54ee7549d0carow5_col1\" class=\"data row5 col1\" >4.000</td>\n",
       "                        <td id=\"T_9ce2f602_063b_11ee_b763_54ee7549d0carow5_col2\" class=\"data row5 col2\" >2.449</td>\n",
       "                        <td id=\"T_9ce2f602_063b_11ee_b763_54ee7549d0carow5_col3\" class=\"data row5 col3\" >4.359</td>\n",
       "                        <td id=\"T_9ce2f602_063b_11ee_b763_54ee7549d0carow5_col4\" class=\"data row5 col4\" >0.000</td>\n",
       "                        <td id=\"T_9ce2f602_063b_11ee_b763_54ee7549d0carow5_col5\" class=\"data row5 col5\" >0.000</td>\n",
       "                        <td id=\"T_9ce2f602_063b_11ee_b763_54ee7549d0carow5_col6\" class=\"data row5 col6\" >1.414</td>\n",
       "                        <td id=\"T_9ce2f602_063b_11ee_b763_54ee7549d0carow5_col7\" class=\"data row5 col7\" >2.000</td>\n",
       "            </tr>\n",
       "            <tr>\n",
       "                        <th id=\"T_9ce2f602_063b_11ee_b763_54ee7549d0calevel0_row6\" class=\"row_heading level0 row6\" >elevator8.log</th>\n",
       "                        <td id=\"T_9ce2f602_063b_11ee_b763_54ee7549d0carow6_col0\" class=\"data row6 col0\" >4.123</td>\n",
       "                        <td id=\"T_9ce2f602_063b_11ee_b763_54ee7549d0carow6_col1\" class=\"data row6 col1\" >4.243</td>\n",
       "                        <td id=\"T_9ce2f602_063b_11ee_b763_54ee7549d0carow6_col2\" class=\"data row6 col2\" >2.828</td>\n",
       "                        <td id=\"T_9ce2f602_063b_11ee_b763_54ee7549d0carow6_col3\" class=\"data row6 col3\" >4.123</td>\n",
       "                        <td id=\"T_9ce2f602_063b_11ee_b763_54ee7549d0carow6_col4\" class=\"data row6 col4\" >1.414</td>\n",
       "                        <td id=\"T_9ce2f602_063b_11ee_b763_54ee7549d0carow6_col5\" class=\"data row6 col5\" >1.414</td>\n",
       "                        <td id=\"T_9ce2f602_063b_11ee_b763_54ee7549d0carow6_col6\" class=\"data row6 col6\" >0.000</td>\n",
       "                        <td id=\"T_9ce2f602_063b_11ee_b763_54ee7549d0carow6_col7\" class=\"data row6 col7\" >1.414</td>\n",
       "            </tr>\n",
       "            <tr>\n",
       "                        <th id=\"T_9ce2f602_063b_11ee_b763_54ee7549d0calevel0_row7\" class=\"row_heading level0 row7\" >elevator9.log</th>\n",
       "                        <td id=\"T_9ce2f602_063b_11ee_b763_54ee7549d0carow7_col0\" class=\"data row7 col0\" >4.123</td>\n",
       "                        <td id=\"T_9ce2f602_063b_11ee_b763_54ee7549d0carow7_col1\" class=\"data row7 col1\" >4.472</td>\n",
       "                        <td id=\"T_9ce2f602_063b_11ee_b763_54ee7549d0carow7_col2\" class=\"data row7 col2\" >2.828</td>\n",
       "                        <td id=\"T_9ce2f602_063b_11ee_b763_54ee7549d0carow7_col3\" class=\"data row7 col3\" >4.123</td>\n",
       "                        <td id=\"T_9ce2f602_063b_11ee_b763_54ee7549d0carow7_col4\" class=\"data row7 col4\" >2.000</td>\n",
       "                        <td id=\"T_9ce2f602_063b_11ee_b763_54ee7549d0carow7_col5\" class=\"data row7 col5\" >2.000</td>\n",
       "                        <td id=\"T_9ce2f602_063b_11ee_b763_54ee7549d0carow7_col6\" class=\"data row7 col6\" >1.414</td>\n",
       "                        <td id=\"T_9ce2f602_063b_11ee_b763_54ee7549d0carow7_col7\" class=\"data row7 col7\" >0.000</td>\n",
       "            </tr>\n",
       "    </tbody></table>"
      ],
      "text/plain": [
       "<pandas.io.formats.style.Styler at 0x1c3223bbd30>"
      ]
     },
     "metadata": {},
     "output_type": "display_data"
    }
   ],
   "source": [
    "file_list = get_all_files(r\"C:\\Users\\sab\\Downloads\\Vulnerablity\\SmartDelta\\Akka\\samples\\poc_new\\architecture_visualization_tool\\dualstackLogs\\elevator\")\n",
    "distance_matrix = get_similarity_distance()\n",
    "viz.plot_data_points_logs(distance_matrix, file_list)"
   ]
  },
  {
   "cell_type": "code",
   "execution_count": 7,
   "metadata": {},
   "outputs": [
    {
     "name": "stdout",
     "output_type": "stream",
     "text": [
      "[{\"user1.Initial\": 0.0, \"user1.ArriveFloorIN\": 1.7320508075688772, \"user1.waiting\": 5.744562646538029, \"user1.elevator\": 0.0, \"user1.elevator.Initial\": 4.358898943540674, \"user1.elevator.callreceived\": 4.358898943540674, \"user1.elevator.decision\": 4.123105625617661, \"user1.elevator.decision.Initial\": 4.123105625617661}, {\"user1.Initial\": 1.7320508075688772, \"user1.ArriveFloorIN\": 0.0, \"user1.waiting\": 5.477225575051661, \"user1.elevator\": 1.7320508075688772, \"user1.elevator.Initial\": 4.0, \"user1.elevator.callreceived\": 4.0, \"user1.elevator.decision\": 4.242640687119285, \"user1.elevator.decision.Initial\": 4.47213595499958}, {\"user1.Initial\": 5.744562646538029, \"user1.ArriveFloorIN\": 5.477225575051661, \"user1.waiting\": 0.0, \"user1.elevator\": 5.744562646538029, \"user1.elevator.Initial\": 2.449489742783178, \"user1.elevator.callreceived\": 2.449489742783178, \"user1.elevator.decision\": 2.8284271247461903, \"user1.elevator.decision.Initial\": 2.8284271247461903}, {\"user1.Initial\": 0.0, \"user1.ArriveFloorIN\": 1.7320508075688772, \"user1.waiting\": 5.744562646538029, \"user1.elevator\": 0.0, \"user1.elevator.Initial\": 4.358898943540674, \"user1.elevator.callreceived\": 4.358898943540674, \"user1.elevator.decision\": 4.123105625617661, \"user1.elevator.decision.Initial\": 4.123105625617661}, {\"user1.Initial\": 4.358898943540674, \"user1.ArriveFloorIN\": 4.0, \"user1.waiting\": 2.449489742783178, \"user1.elevator\": 4.358898943540674, \"user1.elevator.Initial\": 0.0, \"user1.elevator.callreceived\": 0.0, \"user1.elevator.decision\": 1.4142135623730951, \"user1.elevator.decision.Initial\": 2.0}, {\"user1.Initial\": 4.358898943540674, \"user1.ArriveFloorIN\": 4.0, \"user1.waiting\": 2.449489742783178, \"user1.elevator\": 4.358898943540674, \"user1.elevator.Initial\": 0.0, \"user1.elevator.callreceived\": 0.0, \"user1.elevator.decision\": 1.4142135623730951, \"user1.elevator.decision.Initial\": 2.0}, {\"user1.Initial\": 4.123105625617661, \"user1.ArriveFloorIN\": 4.242640687119285, \"user1.waiting\": 2.8284271247461903, \"user1.elevator\": 4.123105625617661, \"user1.elevator.Initial\": 1.4142135623730951, \"user1.elevator.callreceived\": 1.4142135623730951, \"user1.elevator.decision\": 0.0, \"user1.elevator.decision.Initial\": 1.4142135623730951}, {\"user1.Initial\": 4.123105625617661, \"user1.ArriveFloorIN\": 4.47213595499958, \"user1.waiting\": 2.8284271247461903, \"user1.elevator\": 4.123105625617661, \"user1.elevator.Initial\": 2.0, \"user1.elevator.callreceived\": 2.0, \"user1.elevator.decision\": 1.4142135623730951, \"user1.elevator.decision.Initial\": 0.0}]\n"
     ]
    }
   ],
   "source": [
    "import json\n",
    "b = rd.states\n",
    "res = []\n",
    "for data in distance_matrix:\n",
    "    res.append(dict((zip(b,data))))\n",
    "    #print(res)\n",
    "f= json.dumps(res)\n",
    "print(f)"
   ]
  }
 ],
 "metadata": {
  "kernelspec": {
   "display_name": "Python 3",
   "language": "python",
   "name": "python3"
  },
  "language_info": {
   "codemirror_mode": {
    "name": "ipython",
    "version": 3
   },
   "file_extension": ".py",
   "mimetype": "text/x-python",
   "name": "python",
   "nbconvert_exporter": "python",
   "pygments_lexer": "ipython3",
   "version": "3.6.5"
  },
  "orig_nbformat": 4
 },
 "nbformat": 4,
 "nbformat_minor": 2
}
